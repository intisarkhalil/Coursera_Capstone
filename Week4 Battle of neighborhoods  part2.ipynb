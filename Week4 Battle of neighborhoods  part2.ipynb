{
    "cells": [
        {
            "cell_type": "markdown",
            "metadata": {},
            "source": "# Part2- Data:"
        },
        {
            "cell_type": "markdown",
            "metadata": {
                "collapsed": true
            },
            "source": "### 2.1 Sourse of Data\nFor the purpose of this project, the data will be restricted to Sacramento City. The information about car dealership will be from the neighborhoods and boroughs of San Sacramento only. We will need a couple of dataset and will combine them to get the desired outcome which are as following datasets:\n1)\tSacramento Data (Boroughs +Neighborhoods): https://en.wikipedia.org/wiki/Sacramento,_California  \n\nThe first database will be used would contains all requaired geographical data about Sacramento city. namely  we would be used 'Borogh', Latitude, Longitudes, and Neighborhoods among all other data elements presented in our data.\nIn order to explor/segment the neighborhoods, we will essentially need a dataset that contains the boroghs and th neighborhoods that exist in each borogh as well as the latitude and longitude coordinates for each neighborhood. the \"Latitude and \"Longitude extracted from this data will also be piovtal when we use it to perform clustering with K-means.\n\n2)\tFour Square Sacramento City Guide Data (venues)\n\nFoursquare API: to find dealerships/venues\n### 2.2. data Cleaning:\nthe cleaning process in the following steps:\n1. normilizing the data types.\n2. drop un-necessary data\n3. missing value replace with mean value.\n### 2.3 "
        },
        {
            "cell_type": "code",
            "execution_count": null,
            "metadata": {},
            "outputs": [],
            "source": ""
        }
    ],
    "metadata": {
        "kernelspec": {
            "display_name": "Python 3.7",
            "language": "python",
            "name": "python3"
        },
        "language_info": {
            "codemirror_mode": {
                "name": "ipython",
                "version": 3
            },
            "file_extension": ".py",
            "mimetype": "text/x-python",
            "name": "python",
            "nbconvert_exporter": "python",
            "pygments_lexer": "ipython3",
            "version": "3.7.10"
        }
    },
    "nbformat": 4,
    "nbformat_minor": 1
}