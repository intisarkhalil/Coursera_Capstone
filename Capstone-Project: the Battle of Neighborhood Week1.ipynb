{
    "cells": [
        {
            "cell_type": "markdown",
            "metadata": {
                "collapsed": true
            },
            "source": "\n# Recommend the Best Location for business and living in Sacramento, CA\n\n## Part1: Problem Statement and Background:\n\n### 1.Introduction:\nSacramento is the capital city of california. known for many things such as its agriculture, sustainability, infrastructure, healthcare and educational institutions, Sacramento is a lush and vibrant metropolitan city in the northern california. The neighbborhoods of Sacramento offer a distinct balance between an urbanites dream and suburban escape. \n\n### 2.The Problem Statment:\nThe main purposes for this project is to recommend the best location or county in Sacramento contains the best services such as:\n- Resturants, \n- educational institutes, \n- healthcare institue, \n- number of crimes and so on.\n\n### 3. Interest: \nThe following Stakeholders will be intrested in this analysis:\n1. new residents,  who were want to pay new house.\n2. visitors, who seeking for best hotels, resturants \n3. person who want to open new business\n"
        },
        {
            "cell_type": "code",
            "execution_count": null,
            "metadata": {},
            "outputs": [],
            "source": ""
        }
    ],
    "metadata": {
        "kernelspec": {
            "display_name": "Python 3.7",
            "language": "python",
            "name": "python3"
        },
        "language_info": {
            "codemirror_mode": {
                "name": "ipython",
                "version": 3
            },
            "file_extension": ".py",
            "mimetype": "text/x-python",
            "name": "python",
            "nbconvert_exporter": "python",
            "pygments_lexer": "ipython3",
            "version": "3.7.10"
        }
    },
    "nbformat": 4,
    "nbformat_minor": 1
}