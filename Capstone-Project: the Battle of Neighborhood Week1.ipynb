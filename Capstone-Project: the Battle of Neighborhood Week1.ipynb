{
    "cells": [
        {
            "attachments": {},
            "cell_type": "markdown",
            "metadata": {
                "collapsed": true
            },
            "source": "\n\n# The Resturant Battle of Neighborhoods in Sacramento, CA\n\n## Part1: Problem Statement and Background:\n\nSacramento is the capital city of california. known for many things such as its agriculture, sustainability, infrastructure, healthcare and educational institutions, Sacramento is a lush and vibrant metropolitan city in the northern california.\nthe neighbborhoods of Sacramento offer a distinct balance between an urbanites dream and suburban escape.\n\nThe main purposes for this project is to recommend the best location or county in Sacramento contains the best services such as  Resturants, educational institutes, healthcare institue, number of crimes and so on.\n"
        },
        {
            "cell_type": "code",
            "execution_count": null,
            "metadata": {},
            "outputs": [],
            "source": ""
        }
    ],
    "metadata": {
        "kernelspec": {
            "display_name": "Python 3.7",
            "language": "python",
            "name": "python3"
        },
        "language_info": {
            "codemirror_mode": {
                "name": "ipython",
                "version": 3
            },
            "file_extension": ".py",
            "mimetype": "text/x-python",
            "name": "python",
            "nbconvert_exporter": "python",
            "pygments_lexer": "ipython3",
            "version": "3.7.10"
        }
    },
    "nbformat": 4,
    "nbformat_minor": 1
}